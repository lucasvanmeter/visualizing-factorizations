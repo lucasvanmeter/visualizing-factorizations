{
 "cells": [
  {
   "cell_type": "code",
   "execution_count": 2,
   "metadata": {},
   "outputs": [],
   "source": [
    "# Generates a text file to use to visualize the prime factorizations of integers.\n",
    "def generate_integer_factorizations(n=1000):\n",
    "    primes = {P:i for i,P in enumerate(Primes()[0:prime_pi(n)])}\n",
    "    data = [[[primes[P],e] for P,e in factor(i)] for i in range(2,n)]\n",
    "    print(f\"{len(data)+2} integers factored, roughly 2^{3+ZZ(sum(len(r) for r in data)).nbits()} bytes\")\n",
    "    with open(f\"first_{len(data)+2}_integers.txt\",\"w\") as f:\n",
    "        f.write(\"\\n\".join(\" \".join(f\"{p},{e}\" for p,e in row) for row in data))"
   ]
  },
  {
   "cell_type": "code",
   "execution_count": 3,
   "metadata": {},
   "outputs": [],
   "source": [
    "# Generates a text file to use to visualize the prime factorizations of a quadrtic field.\n",
    "def generate_quadratic_field_factorizations(d,n=1000):\n",
    "    K = QuadraticField(46)\n",
    "    primes = {P:i for i,P in enumerate(K.primes_of_bounded_norm_iter(n))}\n",
    "    data = [[[primes[P],e] for P,e in K.factor(A)] for L in K.ideals_of_bdd_norm(n).values() for A in L]\n",
    "    print(f\"{len(data)} ideals generated, roughly 2^{3+ZZ(sum(len(r) for r in data)).nbits()} bytes\")\n",
    "    with open(f\"first_{len(data)}_ideals_in_quadratic_field_disc_{d}.txt\",\"w\") as f:\n",
    "        f.write(\"\\n\".join(\" \".join(f\"{p},{e}\" for p,e in row) for row in data))"
   ]
  },
  {
   "cell_type": "code",
   "execution_count": 5,
   "metadata": {},
   "outputs": [
    {
     "name": "stdout",
     "output_type": "stream",
     "text": [
      "159118 ideals generated, roughly 2^22 bytes\n"
     ]
    }
   ],
   "source": [
    "generate_quadratic_field_factorizations(-1,10^4)"
   ]
  },
  {
   "cell_type": "code",
   "execution_count": 6,
   "metadata": {},
   "outputs": [
    {
     "name": "stdout",
     "output_type": "stream",
     "text": [
      "10000 integers factored, roughly 2^18 bytes\n"
     ]
    }
   ],
   "source": [
    "generate_integer_factorizations(10000)"
   ]
  },
  {
   "cell_type": "code",
   "execution_count": null,
   "metadata": {},
   "outputs": [],
   "source": []
  }
 ],
 "metadata": {
  "kernelspec": {
   "display_name": "SageMath 9.5",
   "language": "sage",
   "name": "sagemath"
  },
  "language_info": {
   "codemirror_mode": {
    "name": "ipython",
    "version": 3
   },
   "file_extension": ".py",
   "mimetype": "text/x-python",
   "name": "python",
   "nbconvert_exporter": "python",
   "pygments_lexer": "ipython3",
   "version": "3.10.6"
  }
 },
 "nbformat": 4,
 "nbformat_minor": 5
}
