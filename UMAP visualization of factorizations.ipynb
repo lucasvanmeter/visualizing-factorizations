{
 "cells": [
  {
   "cell_type": "code",
   "execution_count": 2,
   "metadata": {},
   "outputs": [],
   "source": [
    "import numpy as np\n",
    "import scipy.sparse\n",
    "import matplotlib.pyplot as plt\n",
    "import umap\n",
    "from sklearn.manifold import TSNE"
   ]
  },
  {
   "cell_type": "code",
   "execution_count": 3,
   "metadata": {},
   "outputs": [
    {
     "data": {
      "text/plain": [
       "<159118x9636 sparse matrix of type '<class 'numpy.uint32'>'\n",
       "\twith 476872 stored elements in List of Lists format>"
      ]
     },
     "execution_count": 3,
     "metadata": {},
     "output_type": "execute_result"
    }
   ],
   "source": [
    "#loading data and turning it into a matrix\n",
    "file_name=\"first_10000_integers.txt\"\n",
    "\n",
    "with open(file_name) as f:\n",
    "    data = [\n",
    "        [[np.int32(y) for y in x.split(',')] for x in line.split()]\n",
    "        for line in f\n",
    "    ]\n",
    "\n",
    "R = len(data)\n",
    "C = max(p for A in data for p,e in A)+1\n",
    "M = scipy.sparse.lil_matrix((R,C),dtype=np.uint32)\n",
    "for i,row in enumerate(data):\n",
    "    for j,e in row:\n",
    "        M[i,j] = 1\n",
    "\n",
    "# We have a question about whether or not to use e or 1 as the value in this matrix. Using 1 is in line\n",
    "# with previous work and seems to make nicer pictures.\n",
    "\n",
    "# If you don't want a sparse matrix use this code:\n",
    "\n",
    "# R = len(data)\n",
    "# C = max(p for A in data for p,e in A)+1\n",
    "# M = np.zeros((R,C),dtype=np.uint64)\n",
    "# for i,row in enumerate(data):\n",
    "#     for j,e in row:\n",
    "#         M[i,j] = 1\n",
    "\n",
    "M"
   ]
  },
  {
   "cell_type": "code",
   "execution_count": null,
   "metadata": {},
   "outputs": [],
   "source": [
    "%%time\n",
    "# Reducing via UMAP\n",
    "reducer = umap.UMAP(metric='cosine', n_epochs=500)\n",
    "umap_embedding = reducer.fit_transform(M)\n",
    "\n",
    "#Ploting and saving image\n",
    "fig = plt.figure(figsize=(8,8))\n",
    "fig.patch.set_facecolor('black')\n",
    "plt.scatter(umap_embedding[:,0], umap_embedding[:,1], marker='o', s=0.5, edgecolor='',\n",
    "            c=np.arange(umap_embedding.shape[0]), cmap=\"magma\")\n",
    "\n",
    "plt.axis(\"off\")\n",
    "plt.savefig(f\"{file_name}_UMAP_visualization.png\", dpi=400, facecolor='black')"
   ]
  },
  {
   "cell_type": "code",
   "execution_count": null,
   "metadata": {},
   "outputs": [],
   "source": [
    "%%time\n",
    "# This takes much longer than UMAP and it's re\n",
    "# Reducing via t-SNE\n",
    "tsne = TSNE(2,perplexity=300)\n",
    "tsne_embedding = tsne.fit_transform(M)\n",
    "\n",
    "#Ploting and saving image\n",
    "fig = plt.figure(figsize=(8,8))\n",
    "fig.patch.set_facecolor('black')\n",
    "plt.scatter(tsne_embedding[:,0], tsne_embedding[:,1], marker='o', s=0.5, edgecolor='',\n",
    "            c=np.arange(tsne_embedding.shape[0]), cmap=\"magma\")\n",
    "\n",
    "plt.axis(\"off\")\n",
    "plt.savefig(f\"{file_name}_t-SNE_visualization.png\", dpi=400, facecolor='black')"
   ]
  }
 ],
 "metadata": {
  "kernelspec": {
   "display_name": "Python 3",
   "language": "python",
   "name": "python3"
  },
  "language_info": {
   "codemirror_mode": {
    "name": "ipython",
    "version": 3
   },
   "file_extension": ".py",
   "mimetype": "text/x-python",
   "name": "python",
   "nbconvert_exporter": "python",
   "pygments_lexer": "ipython3",
   "version": "3.7.7"
  }
 },
 "nbformat": 4,
 "nbformat_minor": 5
}
